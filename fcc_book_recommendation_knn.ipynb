{
 "cells": [
  {
   "cell_type": "code",
   "execution_count": null,
   "metadata": {
    "id": "Y1onB6kUvo4Z"
   },
   "outputs": [],
   "source": [
    "# import libraries (you may add additional imports but you may not have to)\n",
    "import numpy as np\n",
    "import pandas as pd\n",
    "from scipy.sparse import csr_matrix\n",
    "from sklearn.neighbors import NearestNeighbors\n",
    "import matplotlib.pyplot as plt"
   ]
  },
  {
   "cell_type": "markdown",
   "metadata": {
    "id": "508SiDXtLgGc"
   },
   "source": [
    "## Load data"
   ]
  },
  {
   "cell_type": "code",
   "execution_count": null,
   "metadata": {
    "colab": {
     "base_uri": "https://localhost:8080/"
    },
    "id": "iAQGqqO_vo4d",
    "outputId": "acd75f59-d69c-4b92-b5a7-2b23b227e855"
   },
   "outputs": [
    {
     "name": "stdout",
     "output_type": "stream",
     "text": [
      "--2023-02-06 00:44:35--  https://cdn.freecodecamp.org/project-data/books/book-crossings.zip\n",
      "Resolving cdn.freecodecamp.org (cdn.freecodecamp.org)... 104.26.2.33, 104.26.3.33, 172.67.70.149, ...\n",
      "Connecting to cdn.freecodecamp.org (cdn.freecodecamp.org)|104.26.2.33|:443... connected.\n",
      "HTTP request sent, awaiting response... 200 OK\n",
      "Length: 26085508 (25M) [application/zip]\n",
      "Saving to: ‘book-crossings.zip’\n",
      "\n",
      "book-crossings.zip  100%[===================>]  24.88M  54.2MB/s    in 0.5s    \n",
      "\n",
      "2023-02-06 00:44:36 (54.2 MB/s) - ‘book-crossings.zip’ saved [26085508/26085508]\n",
      "\n",
      "Archive:  book-crossings.zip\n",
      "  inflating: BX-Book-Ratings.csv     \n",
      "  inflating: BX-Books.csv            \n",
      "  inflating: BX-Users.csv            \n"
     ]
    }
   ],
   "source": [
    "# get data files\n",
    "!wget https://cdn.freecodecamp.org/project-data/books/book-crossings.zip\n",
    "\n",
    "!unzip book-crossings.zip"
   ]
  },
  {
   "cell_type": "code",
   "execution_count": null,
   "metadata": {
    "id": "EjzSakxPLgGd"
   },
   "outputs": [],
   "source": [
    "books_filename = 'BX-Books.csv'\n",
    "ratings_filename = 'BX-Book-Ratings.csv'"
   ]
  },
  {
   "cell_type": "code",
   "execution_count": null,
   "metadata": {
    "id": "NClILWOiEd6Q"
   },
   "outputs": [],
   "source": [
    "# import csv data into dataframes\n",
    "df_books = pd.read_csv(\n",
    "    books_filename,\n",
    "    encoding = \"ISO-8859-1\",\n",
    "    sep=\";\",\n",
    "    header=0,\n",
    "    names=['isbn', 'title', 'author'],\n",
    "    usecols=['isbn', 'title', 'author'],\n",
    "    dtype={'isbn': 'str', 'title': 'str', 'author': 'str'})\n",
    "\n",
    "df_ratings = pd.read_csv(\n",
    "    ratings_filename,\n",
    "    encoding = \"ISO-8859-1\",\n",
    "    sep=\";\",\n",
    "    header=0,\n",
    "    names=['user', 'isbn', 'rating'],\n",
    "    usecols=['user', 'isbn', 'rating'],\n",
    "    dtype={'user': 'int32', 'isbn': 'str', 'rating': 'float32'})"
   ]
  },
  {
   "cell_type": "markdown",
   "metadata": {
    "id": "dXHZ0NhxLgGe"
   },
   "source": [
    "## Clean data"
   ]
  },
  {
   "cell_type": "markdown",
   "metadata": {
    "id": "f60sQ9qFLgGe"
   },
   "source": [
    "### Plot the counts per user and per book"
   ]
  },
  {
   "cell_type": "code",
   "execution_count": null,
   "metadata": {
    "colab": {
     "base_uri": "https://localhost:8080/",
     "height": 370
    },
    "id": "Dio8R0OcLgGf",
    "outputId": "c664ca80-41a2-4b20-db3b-64cc49512bc1"
   },
   "outputs": [
    {
     "data": {
      "text/plain": [
       "<matplotlib.legend.Legend at 0x7f97e202bee0>"
      ]
     },
     "execution_count": 5,
     "metadata": {},
     "output_type": "execute_result"
    },
    {
     "data": {
      "image/png": "[encoded data removed]",
      "text/plain": [
       "<Figure size 864x360 with 2 Axes>"
      ]
     },
     "metadata": {
      "needs_background": "light"
     },
     "output_type": "display_data"
    }
   ],
   "source": [
    "# create a dataframe of ratings per user, sorted by descending count\n",
    "user_counts = (\n",
    "    df_ratings\n",
    "        .groupby('user', as_index=False)\n",
    "        .size()\n",
    "        .sort_values('size', ascending=False)\n",
    "        .reset_index(drop=True)\n",
    "        .drop(columns='user')\n",
    ")\n",
    "\n",
    "# create a dataframe of ratings per user, sorted by descending count\n",
    "book_counts = (\n",
    "    df_ratings\n",
    "        .groupby('isbn', as_index=False)\n",
    "        .size()\n",
    "        .sort_values('size', ascending=False)\n",
    "        .reset_index(drop=True)\n",
    "        .drop(columns='isbn')\n",
    ")\n",
    "\n",
    "\n",
    "# plot the counts with markers at 200 per user and 100 per book\n",
    "fig, (ax1, ax2) = plt.subplots(1, 2, figsize=(12,5))\n",
    "ax1.plot(user_counts.index, user_counts['size'])\n",
    "ax2.plot(book_counts.index, book_counts['size'])\n",
    "ax1.set_xscale('log')\n",
    "ax2.set_xscale('log')\n",
    "ax1.set_title('Ratings per User')\n",
    "ax2.set_title('Ratings per Book')\n",
    "ax1.axhline(y=200, color='r', label='200')\n",
    "ax2.axhline(y=100, color='r', label='100')\n",
    "ax1.set_ylabel('Ratings')\n",
    "ax1.set_xlabel('User IDs')\n",
    "ax2.set_xlabel('Book ISBNs')\n",
    "ax1.legend()\n",
    "ax2.legend()"
   ]
  },
  {
   "cell_type": "markdown",
   "metadata": {
    "id": "B3HcZ4OtLgGg"
   },
   "source": [
    "### Remove users with <200 ratings and books with <100 ratings"
   ]
  },
  {
   "cell_type": "code",
   "execution_count": null,
   "metadata": {
    "colab": {
     "base_uri": "https://localhost:8080/"
    },
    "id": "eUVbhWFvLgGg",
    "outputId": "e35e8275-0b08-480a-ea59-a56a3e6cfddf"
   },
   "outputs": [
    {
     "name": "stdout",
     "output_type": "stream",
     "text": [
      "Shape before: (1149780, 3)\n",
      "Shape after: (49781, 3)\n"
     ]
    }
   ],
   "source": [
    "print(f'Shape before: {df_ratings.shape}')\n",
    "user_mask = df_ratings.groupby('user')['rating'].transform('size') >= 200\n",
    "book_mask = df_ratings.groupby('isbn')['rating'].transform('size') >= 100\n",
    "df_ratings = df_ratings[user_mask & book_mask]\n",
    "print(f'Shape after: {df_ratings.shape}')"
   ]
  },
  {
   "cell_type": "markdown",
   "metadata": {
    "id": "ioy73GZhLgGg"
   },
   "source": [
    "## Prepare the data (create a sparse matrix)"
   ]
  },
  {
   "cell_type": "code",
   "execution_count": null,
   "metadata": {
    "colab": {
     "base_uri": "https://localhost:8080/"
    },
    "id": "o65XFq1qLgGh",
    "outputId": "f16a8294-38bc-4a6d-eb0f-de8b8512843a"
   },
   "outputs": [
    {
     "data": {
      "text/plain": [
       "NearestNeighbors(algorithm='brute', metric='cosine')"
      ]
     },
     "execution_count": 7,
     "metadata": {},
     "output_type": "execute_result"
    }
   ],
   "source": [
    "# pivot the data into a matrix with rows for books and columns for users\n",
    "df_pivot = df_ratings.pivot(index='isbn', columns='user', values='rating').fillna(0)\n",
    "\n",
    "# Create a sparse matrix\n",
    "ratings_matrix = csr_matrix(df_pivot.values)\n",
    "\n",
    "# create the model using cosine for similarity\n",
    "model = NearestNeighbors(metric='cosine', algorithm='brute', n_neighbors=5)\n",
    "\n",
    "# fit the model\n",
    "model.fit(ratings_matrix)"
   ]
  },
  {
   "cell_type": "markdown",
   "metadata": {
    "id": "PTpwqDq6LgGh"
   },
   "source": [
    "## Create mappers\n",
    "Create mappers to map between book names and rows in the matrix"
   ]
  },
  {
   "cell_type": "code",
   "execution_count": null,
   "metadata": {
    "colab": {
     "base_uri": "https://localhost:8080/",
     "height": 206
    },
    "id": "MEmMotPYLgGh",
    "outputId": "921195e9-3b7c-4ada-bee6-30343ab29266"
   },
   "outputs": [
    {
     "data": {
      "text/html": [
       "\n",
       "  <div id=\"df-b860cf4a-6f10-4960-bffe-f5808e0fad66\">\n",
       "    <div class=\"colab-df-container\">\n",
       "      <div>\n",
       "<style scoped>\n",
       "    .dataframe tbody tr th:only-of-type {\n",
       "        vertical-align: middle;\n",
       "    }\n",
       "\n",
       "    .dataframe tbody tr th {\n",
       "        vertical-align: top;\n",
       "    }\n",
       "\n",
       "    .dataframe thead th {\n",
       "        text-align: right;\n",
       "    }\n",
       "</style>\n",
       "<table border=\"1\" class=\"dataframe\">\n",
       "  <thead>\n",
       "    <tr style=\"text-align: right;\">\n",
       "      <th></th>\n",
       "      <th>isbn</th>\n",
       "      <th>title</th>\n",
       "      <th>author</th>\n",
       "    </tr>\n",
       "  </thead>\n",
       "  <tbody>\n",
       "    <tr>\n",
       "      <th>0</th>\n",
       "      <td>002542730X</td>\n",
       "      <td>Politically Correct Bedtime Stories: Modern Ta...</td>\n",
       "      <td>James Finn Garner</td>\n",
       "    </tr>\n",
       "    <tr>\n",
       "      <th>1</th>\n",
       "      <td>0060008032</td>\n",
       "      <td>Angels</td>\n",
       "      <td>Marian Keyes</td>\n",
       "    </tr>\n",
       "    <tr>\n",
       "      <th>2</th>\n",
       "      <td>0060096195</td>\n",
       "      <td>The Boy Next Door</td>\n",
       "      <td>Meggin Cabot</td>\n",
       "    </tr>\n",
       "    <tr>\n",
       "      <th>3</th>\n",
       "      <td>006016848X</td>\n",
       "      <td>Men Are from Mars, Women Are from Venus: A Pra...</td>\n",
       "      <td>John Gray</td>\n",
       "    </tr>\n",
       "    <tr>\n",
       "      <th>4</th>\n",
       "      <td>0060173289</td>\n",
       "      <td>Divine Secrets of the Ya-Ya Sisterhood : A Novel</td>\n",
       "      <td>Rebecca Wells</td>\n",
       "    </tr>\n",
       "  </tbody>\n",
       "</table>\n",
       "</div>\n",
       "      <button class=\"colab-df-convert\" onclick=\"convertToInteractive('df-b860cf4a-6f10-4960-bffe-f5808e0fad66')\"\n",
       "              title=\"Convert this dataframe to an interactive table.\"\n",
       "              style=\"display:none;\">\n",
       "        \n",
       "  <svg xmlns=\"http://www.w3.org/2000/svg\" height=\"24px\"viewBox=\"0 0 24 24\"\n",
       "       width=\"24px\">\n",
       "    <path d=\"M0 0h24v24H0V0z\" fill=\"none\"/>\n",
       "    <path d=\"M18.56 5.44l.94 2.06.94-2.06 2.06-.94-2.06-.94-.94-2.06-.94 2.06-2.06.94zm-11 1L8.5 8.5l.94-2.06 2.06-.94-2.06-.94L8.5 2.5l-.94 2.06-2.06.94zm10 10l.94 2.06.94-2.06 2.06-.94-2.06-.94-.94-2.06-.94 2.06-2.06.94z\"/><path d=\"M17.41 7.96l-1.37-1.37c-.4-.4-.92-.59-1.43-.59-.52 0-1.04.2-1.43.59L10.3 9.45l-7.72 7.72c-.78.78-.78 2.05 0 2.83L4 21.41c.39.39.9.59 1.41.59.51 0 1.02-.2 1.41-.59l7.78-7.78 2.81-2.81c.8-.78.8-2.07 0-2.86zM5.41 20L4 18.59l7.72-7.72 1.47 1.35L5.41 20z\"/>\n",
       "  </svg>\n",
       "      </button>\n",
       "      \n",
       "  <style>\n",
       "    .colab-df-container {\n",
       "      display:flex;\n",
       "      flex-wrap:wrap;\n",
       "      gap: 12px;\n",
       "    }\n",
       "\n",
       "    .colab-df-convert {\n",
       "      background-color: #E8F0FE;\n",
       "      border: none;\n",
       "      border-radius: 50%;\n",
       "      cursor: pointer;\n",
       "      display: none;\n",
       "      fill: #1967D2;\n",
       "      height: 32px;\n",
       "      padding: 0 0 0 0;\n",
       "      width: 32px;\n",
       "    }\n",
       "\n",
       "    .colab-df-convert:hover {\n",
       "      background-color: #E2EBFA;\n",
       "      box-shadow: 0px 1px 2px rgba(60, 64, 67, 0.3), 0px 1px 3px 1px rgba(60, 64, 67, 0.15);\n",
       "      fill: #174EA6;\n",
       "    }\n",
       "\n",
       "    [theme=dark] .colab-df-convert {\n",
       "      background-color: #3B4455;\n",
       "      fill: #D2E3FC;\n",
       "    }\n",
       "\n",
       "    [theme=dark] .colab-df-convert:hover {\n",
       "      background-color: #434B5C;\n",
       "      box-shadow: 0px 1px 3px 1px rgba(0, 0, 0, 0.15);\n",
       "      filter: drop-shadow(0px 1px 2px rgba(0, 0, 0, 0.3));\n",
       "      fill: #FFFFFF;\n",
       "    }\n",
       "  </style>\n",
       "\n",
       "      <script>\n",
       "        const buttonEl =\n",
       "          document.querySelector('#df-b860cf4a-6f10-4960-bffe-f5808e0fad66 button.colab-df-convert');\n",
       "        buttonEl.style.display =\n",
       "          google.colab.kernel.accessAllowed ? 'block' : 'none';\n",
       "\n",
       "        async function convertToInteractive(key) {\n",
       "          const element = document.querySelector('#df-b860cf4a-6f10-4960-bffe-f5808e0fad66');\n",
       "          const dataTable =\n",
       "            await google.colab.kernel.invokeFunction('convertToInteractive',\n",
       "                                                     [key], {});\n",
       "          if (!dataTable) return;\n",
       "\n",
       "          const docLinkHtml = 'Like what you see? Visit the ' +\n",
       "            '<a target=\"_blank\" href=https://colab.research.google.com/notebooks/data_table.ipynb>data table notebook</a>'\n",
       "            + ' to learn more about interactive tables.';\n",
       "          element.innerHTML = '';\n",
       "          dataTable['output_type'] = 'display_data';\n",
       "          await google.colab.output.renderOutput(dataTable, element);\n",
       "          const docLink = document.createElement('div');\n",
       "          docLink.innerHTML = docLinkHtml;\n",
       "          element.appendChild(docLink);\n",
       "        }\n",
       "      </script>\n",
       "    </div>\n",
       "  </div>\n",
       "  "
      ],
      "text/plain": [
       "         isbn                                              title  \\\n",
       "0  002542730X  Politically Correct Bedtime Stories: Modern Ta...   \n",
       "1  0060008032                                             Angels   \n",
       "2  0060096195                                  The Boy Next Door   \n",
       "3  006016848X  Men Are from Mars, Women Are from Venus: A Pra...   \n",
       "4  0060173289   Divine Secrets of the Ya-Ya Sisterhood : A Novel   \n",
       "\n",
       "              author  \n",
       "0  James Finn Garner  \n",
       "1       Marian Keyes  \n",
       "2       Meggin Cabot  \n",
       "3          John Gray  \n",
       "4      Rebecca Wells  "
      ]
     },
     "execution_count": 8,
     "metadata": {},
     "output_type": "execute_result"
    }
   ],
   "source": [
    "# create a dataframe with the same rows as the matrix and join with df_books to add the title\n",
    "df_map = (\n",
    "    df_pivot.index\n",
    "        .to_frame()\n",
    "        .reset_index(drop=True)\n",
    "        .merge(df_books, how='left', on='isbn')\n",
    ")\n",
    "\n",
    "df_map.head()"
   ]
  },
  {
   "cell_type": "code",
   "execution_count": null,
   "metadata": {
    "colab": {
     "base_uri": "https://localhost:8080/"
    },
    "id": "c9adt2BVLgGi",
    "outputId": "899cea71-363a-49bf-faa5-3af7bd6c72f4"
   },
   "outputs": [
    {
     "name": "stdout",
     "output_type": "stream",
     "text": [
      "Filling in 4 blank titles\n"
     ]
    }
   ],
   "source": [
    "# fill in any blank titles with the isbn\n",
    "print(f'Filling in {df_map[\"title\"].isna().sum()} blank titles')\n",
    "has_blank_title = df_map['title'].isna()\n",
    "df_map.loc[has_blank_title, 'title'] = df_map.loc[has_blank_title, 'isbn']"
   ]
  },
  {
   "cell_type": "code",
   "execution_count": null,
   "metadata": {
    "id": "xhdrbqcILgGi"
   },
   "outputs": [],
   "source": [
    "# Create a dict mapping index to book name \n",
    "index_to_book_map = df_map['title'].to_dict()\n",
    "\n",
    "# Create a dict mapping book names to indexes\n",
    "book_to_index_map = {v: k for k, v in index_to_book_map.items()}"
   ]
  },
  {
   "cell_type": "code",
   "execution_count": null,
   "metadata": {
    "colab": {
     "base_uri": "https://localhost:8080/"
    },
    "id": "Xw6xDY49LgGi",
    "outputId": "1f3186d7-e6f8-45e7-dc34-3ff9c466e888"
   },
   "outputs": [
    {
     "name": "stdout",
     "output_type": "stream",
     "text": [
      "the book at index 33 is Fahrenheit 451\n",
      "the index for \"Fahrenheit 451\" is 133\n"
     ]
    }
   ],
   "source": [
    "# print an example of each\n",
    "print(f'the book at index 33 is {index_to_book_map[133]}')\n",
    "\n",
    "print(f'the index for \"Fahrenheit 451\" is {book_to_index_map[\"Fahrenheit 451\"]}')"
   ]
  },
  {
   "cell_type": "markdown",
   "metadata": {
    "id": "YuCVA1l8LgGj"
   },
   "source": [
    "## Recommender function"
   ]
  },
  {
   "cell_type": "code",
   "execution_count": null,
   "metadata": {
    "id": "f5ZUd-L1SQz7"
   },
   "outputs": [],
   "source": [
    "# function to return recommended books - this will be tested\n",
    "def get_recommends(book = \"\"):\n",
    "    # get the corresponding row from the matrix\n",
    "    index = book_to_index_map[book]\n",
    "    matrix_row = ratings_matrix[index]\n",
    "    \n",
    "    # get recommendations\n",
    "    distances, indices = model.kneighbors(matrix_row, n_neighbors=6)\n",
    "    \n",
    "    recommended_books = []\n",
    "    \n",
    "    # loop through results and assemble recommendations in the format [\"book title\", distance]\n",
    "    for (d, i) in zip(distances[0], indices[0]):\n",
    "        recommended_books.append([index_to_book_map[i], d])\n",
    "        \n",
    "    # remove the first (closest) recommendation, which will be the book itself\n",
    "    recommended_books.pop(0)\n",
    "    \n",
    "    # reverse the list\n",
    "    recommended_books.reverse()\n",
    "    \n",
    "    return [book, recommended_books]"
   ]
  },
  {
   "cell_type": "markdown",
   "metadata": {
    "id": "_icbDBExNABh"
   },
   "source": [
    "Try it out with the example from the [project description](https://www.freecodecamp.org/learn/machine-learning-with-python/machine-learning-with-python-projects/book-recommendation-engine-using-knn)..."
   ]
  },
  {
   "cell_type": "code",
   "execution_count": null,
   "metadata": {
    "colab": {
     "base_uri": "https://localhost:8080/"
    },
    "id": "IYKv2JUSMjMt",
    "outputId": "c98c24c6-16eb-4a02-b5ab-2e1e18986af5"
   },
   "outputs": [
    {
     "data": {
      "text/plain": [
       "['The Queen of the Damned (Vampire Chronicles (Paperback))',\n",
       " [['Catch 22', 0.7939835],\n",
       "  ['The Witching Hour (Lives of the Mayfair Witches)', 0.74486566],\n",
       "  ['Interview with the Vampire', 0.73450685],\n",
       "  ['The Tale of the Body Thief (Vampire Chronicles (Paperback))', 0.53763384],\n",
       "  ['The Vampire Lestat (Vampire Chronicles, Book II)', 0.5178412]]]"
      ]
     },
     "execution_count": 15,
     "metadata": {},
     "output_type": "execute_result"
    }
   ],
   "source": [
    "get_recommends(\"The Queen of the Damned (Vampire Chronicles (Paperback))\")"
   ]
  },
  {
   "cell_type": "markdown",
   "metadata": {
    "id": "ZHWydPBGLgGj"
   },
   "source": [
    "## Test"
   ]
  },
  {
   "cell_type": "code",
   "execution_count": null,
   "metadata": {
    "colab": {
     "base_uri": "https://localhost:8080/"
    },
    "id": "jd2SLCh8oxMh",
    "outputId": "5857561b-6a20-4601-c112-19ad35cba48b"
   },
   "outputs": [
    {
     "name": "stdout",
     "output_type": "stream",
     "text": [
      "[\"Where the Heart Is (Oprah's Book Club (Paperback))\", [[\"I'll Be Seeing You\", 0.8016211], ['The Weight of Water', 0.77085835], ['The Surgeon', 0.7699411], ['I Know This Much Is True', 0.7677075], ['The Lovely Bones: A Novel', 0.7234864]]]\n",
      "You passed the challenge! 🎉🎉🎉🎉🎉\n"
     ]
    }
   ],
   "source": [
    "books = get_recommends(\"Where the Heart Is (Oprah's Book Club (Paperback))\")\n",
    "print(books)\n",
    "\n",
    "def test_book_recommendation():\n",
    "  test_pass = True\n",
    "  recommends = get_recommends(\"Where the Heart Is (Oprah's Book Club (Paperback))\")\n",
    "  if recommends[0] != \"Where the Heart Is (Oprah's Book Club (Paperback))\":\n",
    "    test_pass = False\n",
    "  recommended_books = [\"I'll Be Seeing You\", 'The Weight of Water', 'The Surgeon', 'I Know This Much Is True']\n",
    "  recommended_books_dist = [0.8, 0.77, 0.77, 0.77]\n",
    "  for i in range(2): \n",
    "    if recommends[1][i][0] not in recommended_books:\n",
    "      test_pass = False\n",
    "    if abs(recommends[1][i][1] - recommended_books_dist[i]) >= 0.05:\n",
    "      test_pass = False\n",
    "  if test_pass:\n",
    "    print(\"You passed the challenge! 🎉🎉🎉🎉🎉\")\n",
    "  else:\n",
    "    print(\"You haven't passed yet. Keep trying!\")\n",
    "\n",
    "test_book_recommendation()"
   ]
  }
 ],
 "metadata": {
  "colab": {
   "provenance": []
  },
  "kernelspec": {
   "display_name": "data-analysis",
   "language": "python",
   "name": "data-analysis"
  },
  "language_info": {
   "codemirror_mode": {
    "name": "ipython",
    "version": 3
   },
   "file_extension": ".py",
   "mimetype": "text/x-python",
   "name": "python",
   "nbconvert_exporter": "python",
   "pygments_lexer": "ipython3",
   "version": "3.10.6"
  }
 },
 "nbformat": 4,
 "nbformat_minor": 1
}
